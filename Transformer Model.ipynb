{
 "cells": [
  {
   "cell_type": "code",
   "execution_count": 1,
   "metadata": {
    "id": "xAgbLZ6EiIFq"
   },
   "outputs": [],
   "source": [
    "import numpy as np\n",
    "import matplotlib.pyplot as plt\n",
    "\n",
    "import math\n",
    "import os\n",
    "import time\n",
    "import pickle\n",
    "\n",
    "import torch\n",
    "import torch.nn as nn\n",
    "import torch.nn.functional as F\n",
    "import torch.optim as optim\n",
    "import torchvision.models, torchvision.datasets\n",
    "import torchvision.transforms as transforms\n",
    "from torch.nn.utils.rnn import pad_sequence"
   ]
  },
  {
   "cell_type": "markdown",
   "metadata": {},
   "source": [
    "## Structure\n",
    "\n",
    "The cells below show the general structure and different modules in our Transformer model"
   ]
  },
  {
   "cell_type": "code",
   "execution_count": 2,
   "metadata": {
    "id": "mySlVfU3x9m-"
   },
   "outputs": [],
   "source": [
    "def attention(q, k, v, d_k, dropout=None):\n",
    "    \"\"\"\n",
    "    Calculate attention based on the matrices, q,k,v, and the an \n",
    "    interger division on the model dimentions over the number of \n",
    "    heads. \n",
    "    \"\"\"\n",
    "    scores = torch.matmul(q, k.transpose(-2, -1)) /  math.sqrt(d_k)\n",
    "    scores = F.softmax(scores, dim=-1)\n",
    "    \n",
    "    if dropout is not None:\n",
    "        scores = dropout(scores)\n",
    "        \n",
    "    output = torch.matmul(scores, v)\n",
    "    \n",
    "    return output\n"
   ]
  },
  {
   "cell_type": "code",
   "execution_count": 3,
   "metadata": {
    "id": "sp3e6fWCA3e5"
   },
   "outputs": [],
   "source": [
    "# Create an Embedder used to create a representaion of the \n",
    "# input matrix containing n protein's atomic coordinates\n",
    "class Embedder(nn.Module):\n",
    "    def __init__(self, max_coords=100000, d_model=144):\n",
    "        super().__init__()\n",
    "        self.embed = nn.Embedding(max_coords, d_model)\n",
    "    def forward(self, x):\n",
    "        y = self.embed(x)\n",
    "        return y"
   ]
  },
  {
   "cell_type": "code",
   "execution_count": 4,
   "metadata": {
    "id": "osHVJaiaxo_h"
   },
   "outputs": [],
   "source": [
    "# Create a MultiHeadAttention class to perform the h parallel\n",
    "# attention modules. The attention scores are then combined \n",
    "# to get a final attention score\n",
    "class MultiHeadAttention(nn.Module):\n",
    "    def __init__(self, heads, d_model, dropout = 0.1):\n",
    "        super().__init__()\n",
    "\n",
    "        self.d_model = d_model\n",
    "        self.d_k = d_model // heads\n",
    "        self.h = heads\n",
    "\n",
    "        self.q_linear = nn.Linear(d_model, d_model)\n",
    "        self.v_linear = nn.Linear(d_model, d_model)\n",
    "        self.k_linear = nn.Linear(d_model, d_model)\n",
    "        self.dropout = nn.Dropout(dropout)\n",
    "        self.out = nn.Linear(d_model, d_model)\n",
    "    \n",
    "    def forward(self, q, k, v, mask=None):\n",
    "        \n",
    "        bs = q.size(0)\n",
    "\n",
    "        # perform linear operation and split into h heads\n",
    "        k = self.k_linear(k).view(bs, 3, -1, self.h, self.d_k)\n",
    "        \n",
    "        q = self.q_linear(q).view(bs, 3, -1, self.h, self.d_k)\n",
    "        v = self.v_linear(v).view(bs, 3, -1, self.h, self.d_k)\n",
    "\n",
    "        # transpose to get dimensions bs * h * sl * d_model\n",
    "       \n",
    "        k = k.transpose(1,2)\n",
    "        q = q.transpose(1,2)\n",
    "        v = v.transpose(1,2)\n",
    "\n",
    "        # calculate attention using function we will define next\n",
    "        scores = attention(q, k, v, self.d_k, self.dropout)\n",
    "\n",
    "        # concatenate heads and put through final linear layer\n",
    "        concat = scores.transpose(1,2).contiguous().view(bs, -1, self.d_model)\n",
    "        \n",
    "        output = self.out(concat)\n",
    "        output = torch.mean(output, 1)\n",
    "        \n",
    "    \n",
    "        return output"
   ]
  },
  {
   "cell_type": "code",
   "execution_count": 5,
   "metadata": {
    "id": "2ZtDYcrz2xoZ"
   },
   "outputs": [],
   "source": [
    "# A FeedForward class takes the output from the multi-head\n",
    "# attention and passes it through two linear layers to \n",
    "# result in a desireable dimention\n",
    "class FeedForward(nn.Module):\n",
    "    def __init__(self, d_model, d_ff=20, dropout = 0.1):\n",
    "        super().__init__() \n",
    "        self.linear_1 = nn.Linear(d_model, d_ff)\n",
    "        self.dropout = nn.Dropout(dropout)\n",
    "        self.linear_2 = nn.Linear(d_ff, 3)\n",
    "    def forward(self, x):\n",
    "        x = self.dropout(torch.relu(self.linear_1(x)))\n",
    "        x = self.linear_2(x)\n",
    "        return x"
   ]
  },
  {
   "cell_type": "code",
   "execution_count": 6,
   "metadata": {
    "id": "v4sfcyQHHytO"
   },
   "outputs": [],
   "source": [
    "class Norm(nn.Module):\n",
    "    def __init__(self, d_model, eps = 1e-6):\n",
    "        super().__init__()\n",
    "    \n",
    "        self.size = d_model\n",
    "        # create two learnable parameters to calibrate normalisation\n",
    "        self.alpha = nn.Parameter(torch.ones(self.size))\n",
    "        self.bias = nn.Parameter(torch.zeros(self.size))\n",
    "        self.eps = eps\n",
    "        \n",
    "    def forward(self, x):\n",
    "        norm = self.alpha * (x - x.mean(dim=-1, keepdim=True)) \\\n",
    "        / (x.std(dim=-1, keepdim=True) + self.eps) + self.bias\n",
    "        norm = torch.mean(norm, 1)\n",
    "        return norm"
   ]
  },
  {
   "cell_type": "code",
   "execution_count": 7,
   "metadata": {
    "id": "ulZMNJwaAlaV"
   },
   "outputs": [],
   "source": [
    "# Create a Transformer model that uses an embedder, multi-head\n",
    "# attention and a fully connected layer, our feed forward network\n",
    "class Transformer(nn.Module):\n",
    "    def __init__(self):\n",
    "        super().__init__()\n",
    "\n",
    "        self.emb = Embedder()\n",
    "        self.att = MultiHeadAttention(heads=12, d_model=144)\n",
    "        self.fc = FeedForward(d_model=144)\n",
    "\n",
    "    def forward(self, x):\n",
    "        x = self.emb(x)\n",
    "        x = self.att(x, x, x)\n",
    "        x = self.fc(x)\n",
    "        return x\n"
   ]
  },
  {
   "cell_type": "markdown",
   "metadata": {
    "id": "G1HbTH8lESfG"
   },
   "source": [
    "## Training\n",
    "\n",
    "The following code shows the functions used to train the Transformer model"
   ]
  },
  {
   "cell_type": "code",
   "execution_count": 12,
   "metadata": {
    "id": "7h7mTds7ZV44"
   },
   "outputs": [],
   "source": [
    "def get_accuracy(model, data, batch_size=2, max_N=1000):\n",
    "    \"\"\"\n",
    "    Estimate the accuracy of the model on the data. To reduce\n",
    "    computation time, use at most `max_N` elements of `data` to\n",
    "    produce the estimate.\n",
    "    \"\"\"\n",
    "    correct = 0\n",
    "    N = 0\n",
    "\n",
    "    loader = torch.utils.data.DataLoader(data, batch_size, shuffle=True)\n",
    "\n",
    "    for xs, ts in loader:\n",
    "        xs = xs.to(gpu)   # send xs to gpu\n",
    "        # forward pass prediction\n",
    "        z = model(xs)\n",
    "        z = z.to(cpu)\n",
    "        z = z.detach().numpy() # convert the PyTorch tensor => numpy array\n",
    "        ts = ts.detach().numpy() # convert the PyTorch tensor => numpy array\n",
    "        \n",
    "        if dist(z, ts) < 215:\n",
    "            correct += 1\n",
    "            success.append(ts)\n",
    "        else:\n",
    "            incorrect.append(ts)\n",
    "        \n",
    "        N += ts.shape[0]\n",
    "\n",
    "        if N > max_N:\n",
    "            break\n",
    "    return correct / N\n",
    "\n",
    "def dist(z, t):\n",
    "    \"\"\"\n",
    "    Return Euclidean distance of two 3D coordinates.\n",
    "    \"\"\"\n",
    "    return math.sqrt(np.sum((z-t)**2))"
   ]
  },
  {
   "cell_type": "code",
   "execution_count": 9,
   "metadata": {
    "id": "IFMsuwQmEPY4"
   },
   "outputs": [],
   "source": [
    "def train(model, train_data,\n",
    "          batch_size=10, learning_rate=0.001, weight_decay=0,\n",
    "          epochs=500, checkpoint_path=None):\n",
    "    \"\"\"\n",
    "    Train the PyTorch model on the dataset `train_data`, for `max_iters`\n",
    "    iteration.\n",
    "    This function returns the training loss, and the training\n",
    "    which we can use to plot the learning curve.\n",
    "    \"\"\"\n",
    "    criterion = nn.L1Loss()\n",
    "    optimizer = optim.Adam(model.parameters(),\n",
    "                           lr=learning_rate,\n",
    "                           weight_decay=weight_decay)\n",
    "\n",
    "    iters, losses = [], []\n",
    "    iters_sub, train_accs  = [], []\n",
    "\n",
    "    n = 0 # the number of epochs\n",
    "    i = 0 # the number of iterations \n",
    "    while True:\n",
    "\n",
    "        train_loader = torch.utils.data.DataLoader(train_data, batch_size, shuffle=True)\n",
    "        start = time.time()\n",
    "        for xs, ts in train_loader:\n",
    "            \n",
    "            xs, ts = xs.to(gpu), ts.to(gpu) # send the data and labels to gpu\n",
    "            zs = model(xs)\n",
    "            loss = criterion(zs, ts) # compute the total loss    \n",
    "            loss.backward()          # compute updates for each parameter\n",
    "            optimizer.step()         # make the updates for each parameter\n",
    "            optimizer.zero_grad()    # a clean up step for PyTorch\n",
    "\n",
    "            # save the current training information\n",
    "            iters.append(n)\n",
    "            losses.append(float(loss)/batch_size)  # compute *average* loss\n",
    "            \n",
    "            if i % 50 == 0:\n",
    "                iters_sub.append(n)\n",
    "                loss = loss.to(cpu)\n",
    "                train_cost = float(loss.detach().numpy())\n",
    "                train_acc = get_accuracy(model, train_data, batch_size=1)\n",
    "                train_accs.append(train_acc)\n",
    "                \n",
    "                print(\"Epoch %d. Iter %d. [Train Acc %.0f%%, Loss %f]\" % (\n",
    "                      n, i, train_acc * 100, train_cost))\n",
    "\n",
    "                if (checkpoint_path is not None) and n > 0:\n",
    "                    torch.save(model.state_dict(), checkpoint_path.format(n))\n",
    "            \n",
    "            i += 1\n",
    "        # increment the epochs number\n",
    "        n += 1\n",
    "        end = time.time()\n",
    "        if n % 50 == 0:\n",
    "            print(\"Time of epoch %d is %f\" % (n, end-start))\n",
    "\n",
    "        if n == epochs:\n",
    "            return iters, losses, iters_sub, train_accs\n",
    "\n",
    "def plot_learning_curve(iters, losses, iters_sub, train_accs):\n",
    "    \"\"\"\n",
    "    Plot the learning curve.\n",
    "    \"\"\"\n",
    "    plt.title(\"Learning Curve: Loss per Iteration\")\n",
    "    plt.plot(iters, losses, label=\"Train\")\n",
    "    plt.xlabel(\"Iterations\")\n",
    "    plt.ylabel(\"Loss\")\n",
    "    plt.show()\n",
    "\n",
    "    plt.title(\"Learning Curve: Accuracy per Iteration\")\n",
    "    plt.plot(iters_sub, train_accs, label=\"Train\")\n",
    "    #plt.plot(iters_sub, val_accs, label=\"Validation\")\n",
    "    plt.xlabel(\"Iterations\")\n",
    "    plt.ylabel(\"Accuracy\")\n",
    "    plt.legend(loc='best')\n",
    "    plt.show()"
   ]
  },
  {
   "cell_type": "markdown",
   "metadata": {},
   "source": [
    "### Data and Results "
   ]
  },
  {
   "cell_type": "markdown",
   "metadata": {},
   "source": [
    "The cell below loops through a small subset of the data and filters out unusable proteins that contain either no ligands (ground truths) or no atomic coordinates (anomalies in preprocessing)"
   ]
  },
  {
   "cell_type": "code",
   "execution_count": 10,
   "metadata": {
    "id": "IH5iFFyr2em3"
   },
   "outputs": [],
   "source": [
    "\n",
    "coords = []\n",
    "ligands = []\n",
    "\n",
    "limit = 4800\n",
    "for file in os.listdir(\"413 preProc\"):\n",
    "    if limit == 0:\n",
    "        break\n",
    "    with open(os.path.join(\"413 preProc\", file), \"rb\") as f:\n",
    "        protein = pickle.load(f)\n",
    "        # Skip proteins with no ligands and protiens with negative coords\n",
    "        if (protein[1] == []) or (len(protein[0]) == 0) or (np.any((np.array(protein[0]) < 0))):\n",
    "            continue\n",
    "        coordinates = protein[0]\n",
    "        coordinates = torch.tensor(coordinates)\n",
    "        coordinates = coordinates.type(torch.long)\n",
    "        coords.append(coordinates)\n",
    "\n",
    "        ligand = protein[1][0]\n",
    "        ligand = torch.tensor(ligand)\n",
    "        ligands.append(ligand)\n",
    "        f.close()\n",
    "        limit -= 1\n",
    "        \n",
    "# Splits the data into training, validation and test sets with a \n",
    "# padding to be the same size as the largest protein (in terms of coordinates)\n",
    "train_coords = pad_sequence(coords[:300], batch_first=True)\n",
    "train_ligands = pad_sequence(ligands[:300], batch_first=True)\n",
    "\n",
    "valid_coords = pad_sequence(coords[300:400], batch_first=True)\n",
    "valid_ligands = pad_sequence(ligands[300:400], batch_first=True)\n",
    "\n",
    "test_coords = pad_sequence(coords[400:], batch_first=True)\n",
    "test_ligands = pad_sequence(ligands[400:], batch_first=True)"
   ]
  },
  {
   "cell_type": "markdown",
   "metadata": {},
   "source": [
    "The code below sets the devices for utilizing the gpu to train data. In addition, the training, validation, and test sets are organized in a manner suitable to be used by a DataLoader (in the train function). The model is trained to an overfit model and the results are plotted. "
   ]
  },
  {
   "cell_type": "code",
   "execution_count": 11,
   "metadata": {},
   "outputs": [
    {
     "name": "stdout",
     "output_type": "stream",
     "text": [
      "Using GPU\n",
      "Epoch 0. Iter 0. [Train Acc 100%, Loss 75.694145]\n",
      "Epoch 12. Iter 50. [Train Acc 100%, Loss 47.215687]\n",
      "Epoch 25. Iter 100. [Train Acc 100%, Loss 33.217171]\n",
      "Epoch 37. Iter 150. [Train Acc 100%, Loss 38.528770]\n",
      "Time of epoch 50 is 1.176262\n",
      "Epoch 50. Iter 200. [Train Acc 100%, Loss 32.316666]\n",
      "Epoch 62. Iter 250. [Train Acc 100%, Loss 29.795990]\n",
      "Epoch 75. Iter 300. [Train Acc 100%, Loss 31.131182]\n",
      "Epoch 87. Iter 350. [Train Acc 100%, Loss 18.106314]\n",
      "Time of epoch 100 is 1.160259\n",
      "Epoch 100. Iter 400. [Train Acc 100%, Loss 18.442919]\n",
      "Epoch 112. Iter 450. [Train Acc 100%, Loss 35.407032]\n",
      "Epoch 125. Iter 500. [Train Acc 100%, Loss 24.975988]\n",
      "Epoch 137. Iter 550. [Train Acc 100%, Loss 16.319950]\n",
      "Time of epoch 150 is 1.173262\n",
      "Epoch 150. Iter 600. [Train Acc 100%, Loss 20.180580]\n",
      "Epoch 162. Iter 650. [Train Acc 100%, Loss 26.963339]\n",
      "Epoch 175. Iter 700. [Train Acc 100%, Loss 20.545383]\n",
      "Epoch 187. Iter 750. [Train Acc 100%, Loss 16.830923]\n",
      "Time of epoch 200 is 1.199270\n",
      "Epoch 200. Iter 800. [Train Acc 100%, Loss 14.469269]\n",
      "Epoch 212. Iter 850. [Train Acc 100%, Loss 24.579166]\n",
      "Epoch 225. Iter 900. [Train Acc 100%, Loss 28.672127]\n",
      "Epoch 237. Iter 950. [Train Acc 100%, Loss 20.857580]\n",
      "Time of epoch 250 is 1.279285\n",
      "Epoch 250. Iter 1000. [Train Acc 100%, Loss 28.767866]\n",
      "Epoch 262. Iter 1050. [Train Acc 100%, Loss 39.256058]\n",
      "Epoch 275. Iter 1100. [Train Acc 100%, Loss 26.106178]\n",
      "Epoch 287. Iter 1150. [Train Acc 100%, Loss 10.657035]\n",
      "Time of epoch 300 is 1.204269\n",
      "Epoch 300. Iter 1200. [Train Acc 100%, Loss 19.187923]\n",
      "Epoch 312. Iter 1250. [Train Acc 100%, Loss 24.099941]\n",
      "Epoch 325. Iter 1300. [Train Acc 100%, Loss 21.364412]\n",
      "Epoch 337. Iter 1350. [Train Acc 100%, Loss 25.114309]\n",
      "Time of epoch 350 is 1.120250\n",
      "Epoch 350. Iter 1400. [Train Acc 100%, Loss 21.217381]\n",
      "Epoch 362. Iter 1450. [Train Acc 100%, Loss 18.213755]\n",
      "Epoch 375. Iter 1500. [Train Acc 100%, Loss 24.732666]\n",
      "Epoch 387. Iter 1550. [Train Acc 100%, Loss 18.474697]\n",
      "Time of epoch 400 is 1.120250\n",
      "Epoch 400. Iter 1600. [Train Acc 100%, Loss 6.061907]\n",
      "Epoch 412. Iter 1650. [Train Acc 100%, Loss 19.984243]\n",
      "Epoch 425. Iter 1700. [Train Acc 100%, Loss 8.701896]\n",
      "Epoch 437. Iter 1750. [Train Acc 100%, Loss 21.178425]\n",
      "Time of epoch 450 is 1.119255\n",
      "Epoch 450. Iter 1800. [Train Acc 100%, Loss 17.429441]\n",
      "Epoch 462. Iter 1850. [Train Acc 100%, Loss 18.401318]\n",
      "Epoch 475. Iter 1900. [Train Acc 100%, Loss 12.048043]\n",
      "Epoch 487. Iter 1950. [Train Acc 100%, Loss 18.715904]\n",
      "Time of epoch 500 is 1.120757\n"
     ]
    },
    {
     "data": {
      "image/png": "[encoded data removed]",
      "text/plain": [
       "<Figure size 432x288 with 1 Axes>"
      ]
     },
     "metadata": {
      "needs_background": "light"
     },
     "output_type": "display_data"
    },
    {
     "data": {
      "image/png": "[encoded data removed]",
      "text/plain": [
       "<Figure size 432x288 with 1 Axes>"
      ]
     },
     "metadata": {
      "needs_background": "light"
     },
     "output_type": "display_data"
    }
   ],
   "source": [
    "if torch.cuda.is_available():\n",
    "    gpu = torch.device(\"cuda:0\")\n",
    "    print(\"Using GPU\")\n",
    "else:\n",
    "    gpu = torch.device(\"cpu\")\n",
    "    print(\"Using CPU\")\n",
    "cpu = torch.device(\"cpu\")  \n",
    "\n",
    "\n",
    "train_data = list(zip(train_coords, train_ligands))\n",
    "valid_data = list(zip(valid_coords, valid_ligands))\n",
    "test_data = list(zip(test_coords, test_ligands))\n",
    "\n",
    "\n",
    "transformer = transformer.to(gpu) # send model to gpu\n",
    "iters, losses, iters_sub, train_accs = train(transformer, train_data[:12], batch_size=3, checkpoint_path='C:/Users/ziyya/Documents/Uni/Fall-Winter 2021-2022/Winter/Neural Nets/FInal/check2/ckpt-{}.pk')\n",
    "plot_learning_curve(iters, losses, iters_sub, train_accs)"
   ]
  },
  {
   "cell_type": "code",
   "execution_count": 13,
   "metadata": {},
   "outputs": [
    {
     "name": "stdout",
     "output_type": "stream",
     "text": [
      "Using GPU\n",
      "Transformer Accuracy: 0.9166666666666666\n",
      "1\n",
      "11\n"
     ]
    }
   ],
   "source": [
    "if torch.cuda.is_available():\n",
    "    gpu = torch.device(\"cuda:0\")\n",
    "    print(\"Using GPU\")\n",
    "else:\n",
    "    gpu = torch.device(\"cpu\")\n",
    "    print(\"Using CPU\")\n",
    "cpu = torch.device(\"cpu\")  \n",
    "\n",
    "\n",
    "train_data = list(zip(train_coords, train_ligands))\n",
    "valid_data = list(zip(valid_coords, valid_ligands))\n",
    "test_data = list(zip(test_coords, test_ligands))\n",
    "\n",
    "success = []\n",
    "incorrect = []\n",
    "\n",
    "transformer = Transformer()\n",
    "transformer.load_state_dict(torch.load('ckpt-425.pk'), strict=False)\n",
    "transformer.eval()\n",
    "transformer = transformer.to(gpu)\n",
    "trans_acc = get_accuracy(transformer, test_data[:12], batch_size=1)\n",
    "\n",
    "print(\"Transformer Accuracy:\", trans_acc)\n",
    "print(len(incorrect))\n",
    "print(len(success))\n"
   ]
  },
  {
   "cell_type": "code",
   "execution_count": null,
   "metadata": {},
   "outputs": [],
   "source": []
  }
 ],
 "metadata": {
  "colab": {
   "collapsed_sections": [],
   "name": "CSC413H5 Final Project.ipynb",
   "provenance": []
  },
  "kernelspec": {
   "display_name": "Python 3 (ipykernel)",
   "language": "python",
   "name": "python3"
  },
  "language_info": {
   "codemirror_mode": {
    "name": "ipython",
    "version": 3
   },
   "file_extension": ".py",
   "mimetype": "text/x-python",
   "name": "python",
   "nbconvert_exporter": "python",
   "pygments_lexer": "ipython3",
   "version": "3.8.8"
  }
 },
 "nbformat": 4,
 "nbformat_minor": 1
}
